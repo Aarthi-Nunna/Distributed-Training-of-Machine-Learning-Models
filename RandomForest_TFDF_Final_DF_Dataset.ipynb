{
  "nbformat": 4,
  "nbformat_minor": 0,
  "metadata": {
    "colab": {
      "provenance": []
    },
    "kernelspec": {
      "name": "python3",
      "display_name": "Python 3"
    },
    "language_info": {
      "name": "python"
    }
  },
  "cells": [
    {
      "cell_type": "markdown",
      "source": [
        "Importing the data"
      ],
      "metadata": {
        "id": "ewAgeU_Ygyjz"
      }
    },
    {
      "cell_type": "code",
      "execution_count": 78,
      "metadata": {
        "id": "Mjn6Gp88Xi1s"
      },
      "outputs": [],
      "source": [
        "import pandas as pd\n",
        "data = pd.read_csv('Final_df.csv')"
      ]
    },
    {
      "cell_type": "markdown",
      "source": [
        "Data Pre-Processing"
      ],
      "metadata": {
        "id": "WRJxmi3Ng19H"
      }
    },
    {
      "cell_type": "code",
      "source": [
        "from sklearn.model_selection import train_test_split\n",
        "from sklearn.preprocessing import LabelEncoder\n",
        "from sklearn.ensemble import RandomForestRegressor\n",
        "from sklearn.metrics import mean_squared_error, r2_score\n",
        "\n",
        "data_copy = data\n",
        "data_types = data_copy.dtypes\n",
        "\n",
        "print(data.head(2))"
      ],
      "metadata": {
        "id": "mGvm0A26Xk5v",
        "colab": {
          "base_uri": "https://localhost:8080/"
        },
        "outputId": "10caab8f-8815-43bf-9cbf-6109c0fa5ab6"
      },
      "execution_count": 79,
      "outputs": [
        {
          "output_type": "stream",
          "name": "stdout",
          "text": [
            "   region  price manufacturer           model condition    cylinders fuel  \\\n",
            "0  others  33590          gmc          others      good  8 cylinders  gas   \n",
            "1  others  22590    chevrolet  silverado 1500      good  8 cylinders  gas   \n",
            "\n",
            "   odometer title_status transmission    drive    type paint_color  car_age  \n",
            "0     57923        clean        other  unknown  pickup       white        8  \n",
            "1     71229        clean        other  unknown  pickup        blue       12  \n"
          ]
        }
      ]
    },
    {
      "cell_type": "code",
      "source": [
        "data_copy = data_copy.dropna(subset=['odometer', 'manufacturer', 'model'])"
      ],
      "metadata": {
        "id": "susOtZyGXpnc"
      },
      "execution_count": 81,
      "outputs": []
    },
    {
      "cell_type": "code",
      "source": [
        "data_copy.fillna('unknown', inplace=True)"
      ],
      "metadata": {
        "id": "tklf6GyTXvHE"
      },
      "execution_count": 82,
      "outputs": []
    },
    {
      "cell_type": "code",
      "source": [
        "data_copy = data_copy.drop_duplicates()"
      ],
      "metadata": {
        "id": "kq3QbIebXwiM"
      },
      "execution_count": 83,
      "outputs": []
    },
    {
      "cell_type": "code",
      "source": [
        "manufacturer_values = data_copy['manufacturer'].value_counts()\n",
        "data_copy['manufacturer'] =  data_copy['manufacturer'].apply(lambda x: x if str(x) in manufacturer_values[:20] else 'others')"
      ],
      "metadata": {
        "id": "Ej3wO7a1X0RU"
      },
      "execution_count": 84,
      "outputs": []
    },
    {
      "cell_type": "code",
      "source": [
        "region_values = data_copy['region'].value_counts()\n",
        "data_copy['region'] = data_copy['region'].apply(lambda x: x if str(x) in region_values[:50] else 'others')\n",
        "model_values = data_copy['model'].value_counts()\n",
        "data_copy['model'] = data_copy['model'].apply(lambda x: x if str(x) in model_values[:50] else 'others')"
      ],
      "metadata": {
        "id": "VS8WtRHpX1rX"
      },
      "execution_count": 85,
      "outputs": []
    },
    {
      "cell_type": "code",
      "source": [
        "price_percentile25 = data_copy['price'].quantile(0.25)\n",
        "price_percentile75 = data_copy['price'].quantile(0.75)\n",
        "price_iqr = price_percentile75 - price_percentile25\n",
        "price_upper_limit = price_percentile75 + 1.5 * price_iqr\n",
        "price_lower_limit = data_copy['price'].quantile(0.15)\n",
        "new_df = data_copy[(data_copy['price'] < price_upper_limit) & (data_copy['price'] > price_lower_limit)]\n",
        "odometer_percentile75 = data_copy['odometer'].quantile(0.75)\n",
        "odometer_percentile25 = data_copy['odometer'].quantile(0.25)\n",
        "odometer_iqr = odometer_percentile75 - odometer_percentile25\n",
        "odometer_upper_limit = odometer_percentile75 + 1.5 * odometer_iqr\n",
        "odometer_lower_limit = data_copy['odometer'].quantile(0.05)\n",
        "new_df = new_df[(new_df['odometer'] < odometer_upper_limit) & (new_df['odometer'] > odometer_lower_limit)]"
      ],
      "metadata": {
        "id": "FCLrGbQ1X3v5"
      },
      "execution_count": 86,
      "outputs": []
    },
    {
      "cell_type": "code",
      "source": [
        "new_df['odometer'] = new_df['odometer'].astype(int)"
      ],
      "metadata": {
        "id": "VTvumevzX6Rm"
      },
      "execution_count": 88,
      "outputs": []
    },
    {
      "cell_type": "code",
      "source": [
        "# new_df = new_df[new_df['year'] > 1996]\n",
        "# new_df.shape\n",
        "# new_df['car_age'] = 2022 - new_df['year']\n",
        "# new_df.drop(['year'], axis = 1, inplace = True)"
      ],
      "metadata": {
        "id": "kpI6crcTX8NW"
      },
      "execution_count": null,
      "outputs": []
    },
    {
      "cell_type": "code",
      "source": [
        "final_df = new_df.copy()"
      ],
      "metadata": {
        "id": "Spn43i9QYAgF"
      },
      "execution_count": 90,
      "outputs": []
    },
    {
      "cell_type": "markdown",
      "source": [
        "Split data into Train and Test"
      ],
      "metadata": {
        "id": "aqdVvShag5A9"
      }
    },
    {
      "cell_type": "code",
      "source": [
        "from sklearn.model_selection import train_test_split\n",
        "X_train, X_test, y_train, y_test = train_test_split(final_df.drop(['price'], axis = 1), final_df['price'], random_state = 42, test_size = .2)"
      ],
      "metadata": {
        "id": "6ZDpy9nmYCtd"
      },
      "execution_count": 91,
      "outputs": []
    },
    {
      "cell_type": "markdown",
      "source": [
        "Tensorflow Training Starts from here"
      ],
      "metadata": {
        "id": "s4zA4o0YYzaD"
      }
    },
    {
      "cell_type": "code",
      "source": [
        "!pip install tensorflow tensorflow_decision_forests"
      ],
      "metadata": {
        "id": "tDTDrNc3ZBq3"
      },
      "execution_count": null,
      "outputs": []
    },
    {
      "cell_type": "code",
      "source": [
        "import tensorflow_decision_forests as tfdf"
      ],
      "metadata": {
        "id": "cRoU2JjGYy8V"
      },
      "execution_count": 93,
      "outputs": []
    },
    {
      "cell_type": "code",
      "source": [
        "X_train['price'] = y_train"
      ],
      "metadata": {
        "id": "01vloFUcbM5X"
      },
      "execution_count": 94,
      "outputs": []
    },
    {
      "cell_type": "code",
      "source": [
        "from tensorflow_decision_forests.tensorflow import core_inference as tf_core\n",
        "import time\n",
        "\n",
        "tf_dataset = tfdf.keras.pd_dataframe_to_tf_dataset(X_train, task = tf_core.Task.REGRESSION, label='price')\n",
        "model_1 = tfdf.keras.RandomForestModel(tf_core.Task.REGRESSION,verbose=2)\n",
        "\n",
        "start = time.time()\n",
        "model_1.fit(tf_dataset)\n",
        "end = time.time()\n",
        "print(\"Training time in seconds: \")\n",
        "print(end - start)\n"
      ],
      "metadata": {
        "colab": {
          "base_uri": "https://localhost:8080/"
        },
        "id": "8C7r4g19aDeK",
        "outputId": "c5f6ea2a-39e6-4054-c0d7-7404b198ad3d"
      },
      "execution_count": 95,
      "outputs": [
        {
          "output_type": "stream",
          "name": "stdout",
          "text": [
            "Use 2 thread(s) for training\n",
            "Use /tmp/tmpp5_rln2k as temporary training directory\n",
            "Reading training dataset...\n",
            "Training tensor examples:\n",
            "Features: {'region': <tf.Tensor 'data:0' shape=(None,) dtype=string>, 'manufacturer': <tf.Tensor 'data_1:0' shape=(None,) dtype=string>, 'model': <tf.Tensor 'data_2:0' shape=(None,) dtype=string>, 'condition': <tf.Tensor 'data_3:0' shape=(None,) dtype=string>, 'cylinders': <tf.Tensor 'data_4:0' shape=(None,) dtype=string>, 'fuel': <tf.Tensor 'data_5:0' shape=(None,) dtype=string>, 'odometer': <tf.Tensor 'data_6:0' shape=(None,) dtype=int64>, 'title_status': <tf.Tensor 'data_7:0' shape=(None,) dtype=string>, 'transmission': <tf.Tensor 'data_8:0' shape=(None,) dtype=string>, 'drive': <tf.Tensor 'data_9:0' shape=(None,) dtype=string>, 'type': <tf.Tensor 'data_10:0' shape=(None,) dtype=string>, 'paint_color': <tf.Tensor 'data_11:0' shape=(None,) dtype=string>, 'car_age': <tf.Tensor 'data_12:0' shape=(None,) dtype=int64>}\n",
            "Label: Tensor(\"data_13:0\", shape=(None,), dtype=int64)\n",
            "Weights: None\n",
            "Normalized tensor features:\n",
            " {'region': SemanticTensor(semantic=<Semantic.CATEGORICAL: 2>, tensor=<tf.Tensor 'data:0' shape=(None,) dtype=string>), 'manufacturer': SemanticTensor(semantic=<Semantic.CATEGORICAL: 2>, tensor=<tf.Tensor 'data_1:0' shape=(None,) dtype=string>), 'model': SemanticTensor(semantic=<Semantic.CATEGORICAL: 2>, tensor=<tf.Tensor 'data_2:0' shape=(None,) dtype=string>), 'condition': SemanticTensor(semantic=<Semantic.CATEGORICAL: 2>, tensor=<tf.Tensor 'data_3:0' shape=(None,) dtype=string>), 'cylinders': SemanticTensor(semantic=<Semantic.CATEGORICAL: 2>, tensor=<tf.Tensor 'data_4:0' shape=(None,) dtype=string>), 'fuel': SemanticTensor(semantic=<Semantic.CATEGORICAL: 2>, tensor=<tf.Tensor 'data_5:0' shape=(None,) dtype=string>), 'odometer': SemanticTensor(semantic=<Semantic.NUMERICAL: 1>, tensor=<tf.Tensor 'Cast:0' shape=(None,) dtype=float32>), 'title_status': SemanticTensor(semantic=<Semantic.CATEGORICAL: 2>, tensor=<tf.Tensor 'data_7:0' shape=(None,) dtype=string>), 'transmission': SemanticTensor(semantic=<Semantic.CATEGORICAL: 2>, tensor=<tf.Tensor 'data_8:0' shape=(None,) dtype=string>), 'drive': SemanticTensor(semantic=<Semantic.CATEGORICAL: 2>, tensor=<tf.Tensor 'data_9:0' shape=(None,) dtype=string>), 'type': SemanticTensor(semantic=<Semantic.CATEGORICAL: 2>, tensor=<tf.Tensor 'data_10:0' shape=(None,) dtype=string>), 'paint_color': SemanticTensor(semantic=<Semantic.CATEGORICAL: 2>, tensor=<tf.Tensor 'data_11:0' shape=(None,) dtype=string>), 'car_age': SemanticTensor(semantic=<Semantic.NUMERICAL: 1>, tensor=<tf.Tensor 'Cast_1:0' shape=(None,) dtype=float32>)}\n",
            "Training dataset read in 0:00:02.785526. Found 125127 examples.\n",
            "Training model...\n"
          ]
        },
        {
          "output_type": "stream",
          "name": "stderr",
          "text": [
            "[INFO 23-12-03 03:14:52.2349 UTC kernel.cc:771] Start Yggdrasil model training\n",
            "[INFO 23-12-03 03:14:52.2350 UTC kernel.cc:772] Collect training examples\n",
            "[INFO 23-12-03 03:14:52.2350 UTC kernel.cc:785] Dataspec guide:\n",
            "column_guides {\n",
            "  column_name_pattern: \"^__LABEL$\"\n",
            "  type: NUMERICAL\n",
            "}\n",
            "default_column_guide {\n",
            "  categorial {\n",
            "    max_vocab_count: 2000\n",
            "  }\n",
            "  discretized_numerical {\n",
            "    maximum_num_bins: 255\n",
            "  }\n",
            "}\n",
            "ignore_columns_without_guides: false\n",
            "detect_numerical_as_discretized_numerical: false\n",
            "\n",
            "[INFO 23-12-03 03:14:52.2352 UTC kernel.cc:391] Number of batches: 126\n",
            "[INFO 23-12-03 03:14:52.2352 UTC kernel.cc:392] Number of examples: 125127\n",
            "[INFO 23-12-03 03:14:52.4570 UTC kernel.cc:792] Training dataset:\n",
            "Number of records: 125127\n",
            "Number of columns: 14\n",
            "\n",
            "Number of columns by type:\n",
            "\tCATEGORICAL: 11 (78.5714%)\n",
            "\tNUMERICAL: 3 (21.4286%)\n",
            "\n",
            "Columns:\n",
            "\n",
            "CATEGORICAL: 11 (78.5714%)\n",
            "\t2: \"condition\" CATEGORICAL has-dict vocab-size:8 zero-ood-items most-frequent:\"unknown\" 49496 (39.5566%)\n",
            "\t3: \"cylinders\" CATEGORICAL has-dict vocab-size:10 zero-ood-items most-frequent:\"unknown\" 46510 (37.1702%)\n",
            "\t4: \"drive\" CATEGORICAL has-dict vocab-size:5 zero-ood-items most-frequent:\"4wd\" 43207 (34.5305%)\n",
            "\t5: \"fuel\" CATEGORICAL has-dict vocab-size:7 zero-ood-items most-frequent:\"gas\" 108175 (86.4522%)\n",
            "\t6: \"manufacturer\" CATEGORICAL has-dict vocab-size:21 zero-ood-items most-frequent:\"ford\" 21242 (16.9764%)\n",
            "\t7: \"model\" CATEGORICAL has-dict vocab-size:51 zero-ood-items most-frequent:\"others\" 91220 (72.9019%)\n",
            "\t9: \"paint_color\" CATEGORICAL has-dict vocab-size:14 zero-ood-items most-frequent:\"unknown\" 31880 (25.4781%)\n",
            "\t10: \"region\" CATEGORICAL has-dict vocab-size:51 zero-ood-items most-frequent:\"others\" 66236 (52.935%)\n",
            "\t11: \"title_status\" CATEGORICAL has-dict vocab-size:8 zero-ood-items most-frequent:\"clean\" 117981 (94.289%)\n",
            "\t12: \"transmission\" CATEGORICAL has-dict vocab-size:5 zero-ood-items most-frequent:\"automatic\" 105775 (84.5341%)\n",
            "\t13: \"type\" CATEGORICAL has-dict vocab-size:15 zero-ood-items most-frequent:\"SUV\" 26916 (21.5109%)\n",
            "\n",
            "NUMERICAL: 3 (21.4286%)\n",
            "\t0: \"__LABEL\" NUMERICAL mean:18381.1 min:6308 max:48000 sd:9834.22\n",
            "\t1: \"car_age\" NUMERICAL mean:9.10966 min:0 max:25 sd:4.46875\n",
            "\t8: \"odometer\" NUMERICAL mean:94249.5 min:17411 max:266443 sd:50581.3\n",
            "\n",
            "Terminology:\n",
            "\tnas: Number of non-available (i.e. missing) values.\n",
            "\tood: Out of dictionary.\n",
            "\tmanually-defined: Attribute whose type is manually defined by the user, i.e., the type was not automatically inferred.\n",
            "\ttokenized: The attribute value is obtained through tokenization.\n",
            "\thas-dict: The attribute is attached to a string dictionary e.g. a categorical attribute stored as a string.\n",
            "\tvocab-size: Number of unique values.\n",
            "\n",
            "[INFO 23-12-03 03:14:52.4576 UTC kernel.cc:808] Configure learner\n",
            "[INFO 23-12-03 03:14:52.4579 UTC kernel.cc:822] Training config:\n",
            "learner: \"RANDOM_FOREST\"\n",
            "features: \"^car_age$\"\n",
            "features: \"^condition$\"\n",
            "features: \"^cylinders$\"\n",
            "features: \"^drive$\"\n",
            "features: \"^fuel$\"\n",
            "features: \"^manufacturer$\"\n",
            "features: \"^model$\"\n",
            "features: \"^odometer$\"\n",
            "features: \"^paint_color$\"\n",
            "features: \"^region$\"\n",
            "features: \"^title_status$\"\n",
            "features: \"^transmission$\"\n",
            "features: \"^type$\"\n",
            "label: \"^__LABEL$\"\n",
            "task: REGRESSION\n",
            "random_seed: 123456\n",
            "metadata {\n",
            "  framework: \"TF Keras\"\n",
            "}\n",
            "pure_serving_model: false\n",
            "[yggdrasil_decision_forests.model.random_forest.proto.random_forest_config] {\n",
            "  num_trees: 300\n",
            "  decision_tree {\n",
            "    max_depth: 16\n",
            "    min_examples: 5\n",
            "    in_split_min_examples_check: true\n",
            "    keep_non_leaf_label_distribution: true\n",
            "    num_candidate_attributes: 0\n",
            "    missing_value_policy: GLOBAL_IMPUTATION\n",
            "    allow_na_conditions: false\n",
            "    categorical_set_greedy_forward {\n",
            "      sampling: 0.1\n",
            "      max_num_items: -1\n",
            "      min_item_frequency: 1\n",
            "    }\n",
            "    growing_strategy_local {\n",
            "    }\n",
            "    categorical {\n",
            "      cart {\n",
            "      }\n",
            "    }\n",
            "    axis_aligned_split {\n",
            "    }\n",
            "    internal {\n",
            "      sorting_strategy: PRESORTED\n",
            "    }\n",
            "    uplift {\n",
            "      min_examples_in_treatment: 5\n",
            "      split_score: KULLBACK_LEIBLER\n",
            "    }\n",
            "  }\n",
            "  winner_take_all_inference: true\n",
            "  compute_oob_performances: true\n",
            "  compute_oob_variable_importances: false\n",
            "  num_oob_variable_importances_permutations: 1\n",
            "  bootstrap_training_dataset: true\n",
            "  bootstrap_size_ratio: 1\n",
            "  adapt_bootstrap_size_ratio_for_maximum_training_duration: false\n",
            "  sampling_with_replacement: true\n",
            "}\n",
            "\n",
            "[INFO 23-12-03 03:14:52.4580 UTC kernel.cc:825] Deployment config:\n",
            "cache_path: \"/tmp/tmpp5_rln2k/working_cache\"\n",
            "num_threads: 2\n",
            "try_resume_training: true\n",
            "\n",
            "[INFO 23-12-03 03:14:52.4684 UTC kernel.cc:887] Train model\n",
            "[INFO 23-12-03 03:14:52.4690 UTC random_forest.cc:416] Training random forest on 125127 example(s) and 13 feature(s).\n",
            "[INFO 23-12-03 03:14:53.4064 UTC random_forest.cc:802] Training of tree  1/300 (tree index:1) done rmse:5364.96\n",
            "[INFO 23-12-03 03:14:58.4509 UTC random_forest.cc:802] Training of tree  11/300 (tree index:11) done rmse:4615.94\n",
            "[INFO 23-12-03 03:15:04.8589 UTC random_forest.cc:802] Training of tree  21/300 (tree index:20) done rmse:4439.83\n",
            "[INFO 23-12-03 03:15:08.1130 UTC random_forest.cc:802] Training of tree  31/300 (tree index:30) done rmse:4381.31\n",
            "[INFO 23-12-03 03:15:10.5288 UTC random_forest.cc:802] Training of tree  41/300 (tree index:40) done rmse:4352.36\n",
            "[INFO 23-12-03 03:15:13.3924 UTC random_forest.cc:802] Training of tree  51/300 (tree index:50) done rmse:4338.67\n",
            "[INFO 23-12-03 03:15:17.5062 UTC random_forest.cc:802] Training of tree  61/300 (tree index:60) done rmse:4325.01\n",
            "[INFO 23-12-03 03:15:20.0558 UTC random_forest.cc:802] Training of tree  71/300 (tree index:70) done rmse:4315.61\n",
            "[INFO 23-12-03 03:15:22.5764 UTC random_forest.cc:802] Training of tree  81/300 (tree index:80) done rmse:4309.94\n",
            "[INFO 23-12-03 03:15:25.0365 UTC random_forest.cc:802] Training of tree  91/300 (tree index:90) done rmse:4305.49\n",
            "[INFO 23-12-03 03:15:27.6374 UTC random_forest.cc:802] Training of tree  101/300 (tree index:100) done rmse:4302.57\n",
            "[INFO 23-12-03 03:15:32.1242 UTC random_forest.cc:802] Training of tree  111/300 (tree index:111) done rmse:4299.87\n",
            "[INFO 23-12-03 03:15:34.5324 UTC random_forest.cc:802] Training of tree  121/300 (tree index:120) done rmse:4296.77\n",
            "[INFO 23-12-03 03:15:36.9826 UTC random_forest.cc:802] Training of tree  131/300 (tree index:130) done rmse:4295.12\n",
            "[INFO 23-12-03 03:15:39.4699 UTC random_forest.cc:802] Training of tree  141/300 (tree index:140) done rmse:4293.77\n",
            "[INFO 23-12-03 03:15:41.9375 UTC random_forest.cc:802] Training of tree  151/300 (tree index:150) done rmse:4291.88\n",
            "[INFO 23-12-03 03:15:46.1626 UTC random_forest.cc:802] Training of tree  161/300 (tree index:160) done rmse:4289.84\n",
            "[INFO 23-12-03 03:15:48.8011 UTC random_forest.cc:802] Training of tree  171/300 (tree index:170) done rmse:4288.54\n",
            "[INFO 23-12-03 03:15:51.3045 UTC random_forest.cc:802] Training of tree  181/300 (tree index:180) done rmse:4285.14\n",
            "[INFO 23-12-03 03:15:53.7834 UTC random_forest.cc:802] Training of tree  191/300 (tree index:190) done rmse:4283.73\n",
            "[INFO 23-12-03 03:15:56.3181 UTC random_forest.cc:802] Training of tree  201/300 (tree index:200) done rmse:4282.64\n",
            "[INFO 23-12-03 03:16:00.2839 UTC random_forest.cc:802] Training of tree  211/300 (tree index:209) done rmse:4281.48\n",
            "[INFO 23-12-03 03:16:03.5471 UTC random_forest.cc:802] Training of tree  221/300 (tree index:220) done rmse:4280.04\n",
            "[INFO 23-12-03 03:16:06.0434 UTC random_forest.cc:802] Training of tree  231/300 (tree index:230) done rmse:4279.13\n",
            "[INFO 23-12-03 03:16:08.5123 UTC random_forest.cc:802] Training of tree  241/300 (tree index:240) done rmse:4278.47\n",
            "[INFO 23-12-03 03:16:11.0853 UTC random_forest.cc:802] Training of tree  251/300 (tree index:250) done rmse:4277\n",
            "[INFO 23-12-03 03:16:14.9700 UTC random_forest.cc:802] Training of tree  261/300 (tree index:260) done rmse:4276.19\n",
            "[INFO 23-12-03 03:16:18.3634 UTC random_forest.cc:802] Training of tree  271/300 (tree index:270) done rmse:4276.47\n",
            "[INFO 23-12-03 03:16:21.6306 UTC random_forest.cc:802] Training of tree  281/300 (tree index:280) done rmse:4276.15\n",
            "[INFO 23-12-03 03:16:24.1533 UTC random_forest.cc:802] Training of tree  291/300 (tree index:290) done rmse:4275.92\n",
            "[INFO 23-12-03 03:16:26.2993 UTC random_forest.cc:802] Training of tree  300/300 (tree index:299) done rmse:4275.73\n",
            "[INFO 23-12-03 03:16:26.2995 UTC random_forest.cc:882] Final OOB metrics: rmse:4275.73\n",
            "[INFO 23-12-03 03:16:28.0871 UTC kernel.cc:919] Export model in log directory: /tmp/tmpp5_rln2k with prefix b466a4a7def14de6\n",
            "[INFO 23-12-03 03:16:33.4361 UTC kernel.cc:937] Save model in resources\n",
            "[INFO 23-12-03 03:16:33.4397 UTC abstract_model.cc:881] Model self evaluation:\n",
            "Number of predictions (without weights): 125127\n",
            "Number of predictions (with weights): 125127\n",
            "Task: REGRESSION\n",
            "Label: __LABEL\n",
            "\n",
            "RMSE: 4275.73 CI95[X2][4259.05 4292.55]\n",
            "Default RMSE: : 9834.22\n",
            "\n",
            "[INFO 23-12-03 03:16:35.3667 UTC kernel.cc:1233] Loading model from path /tmp/tmpp5_rln2k/model/ with prefix b466a4a7def14de6\n",
            "[INFO 23-12-03 03:16:50.5812 UTC decision_forest.cc:660] Model loaded with 300 root(s), 3811000 node(s), and 13 input feature(s).\n",
            "[INFO 23-12-03 03:16:50.5813 UTC abstract_model.cc:1344] Engine \"RandomForestGeneric\" built\n",
            "[INFO 23-12-03 03:16:50.5813 UTC kernel.cc:1061] Use fast generic engine\n"
          ]
        },
        {
          "output_type": "stream",
          "name": "stdout",
          "text": [
            "Model trained in 0:01:59.186597\n",
            "Compiling model...\n",
            "Model compiled.\n",
            "Training time in seconds: \n",
            "124.00913119316101\n"
          ]
        }
      ]
    },
    {
      "cell_type": "markdown",
      "source": [
        "Model Predictions using Test Data"
      ],
      "metadata": {
        "id": "xmFCDWiNgjv5"
      }
    },
    {
      "cell_type": "code",
      "source": [
        "X_test['price'] = y_test\n",
        "tf_dataset_test = tfdf.keras.pd_dataframe_to_tf_dataset(X_test, task = tf_core.Task.REGRESSION, label='price')\n",
        "y_pred = model_1.predict(tf_dataset_test)"
      ],
      "metadata": {
        "colab": {
          "base_uri": "https://localhost:8080/"
        },
        "id": "0N9x9PxdesnR",
        "outputId": "ea07cab5-641e-4309-9a8b-fa21abfb992f"
      },
      "execution_count": 96,
      "outputs": [
        {
          "output_type": "stream",
          "name": "stdout",
          "text": [
            "32/32 [==============================] - 8s 231ms/step\n"
          ]
        }
      ]
    },
    {
      "cell_type": "code",
      "source": [
        "r2 = r2_score(y_test, y_pred)\n",
        "mse = mean_squared_error(y_test, y_pred)\n",
        "print(f\"R-squared Score: {r2}\")\n",
        "print(f\"Mean Squared Error: {mse}\")\n"
      ],
      "metadata": {
        "colab": {
          "base_uri": "https://localhost:8080/"
        },
        "id": "LbPa_1AHfCZa",
        "outputId": "720d5e68-ad17-43bc-9899-6b5fff87c051"
      },
      "execution_count": 97,
      "outputs": [
        {
          "output_type": "stream",
          "name": "stdout",
          "text": [
            "R-squared Score: 0.8105121848485068\n",
            "Mean Squared Error: 18205289.963745516\n"
          ]
        }
      ]
    }
  ]
}