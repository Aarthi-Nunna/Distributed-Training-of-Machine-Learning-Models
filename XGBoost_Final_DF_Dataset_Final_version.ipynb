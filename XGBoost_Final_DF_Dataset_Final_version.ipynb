{
  "cells": [
    {
      "cell_type": "markdown",
      "metadata": {
        "id": "ewAgeU_Ygyjz"
      },
      "source": [
        "Importing the data"
      ]
    },
    {
      "cell_type": "code",
      "execution_count": 1,
      "metadata": {
        "id": "Mjn6Gp88Xi1s"
      },
      "outputs": [],
      "source": [
        "import pandas as pd\n",
        "data = pd.read_csv('Final_df.csv')"
      ]
    },
    {
      "cell_type": "markdown",
      "metadata": {
        "id": "WRJxmi3Ng19H"
      },
      "source": [
        "Data Pre-Processing"
      ]
    },
    {
      "cell_type": "code",
      "execution_count": 2,
      "metadata": {
        "colab": {
          "base_uri": "https://localhost:8080/"
        },
        "id": "mGvm0A26Xk5v",
        "outputId": "da551e8b-3773-499e-defc-3c58e8fafec8"
      },
      "outputs": [
        {
          "output_type": "stream",
          "name": "stdout",
          "text": [
            "   region  price manufacturer           model condition    cylinders fuel  \\\n",
            "0  others  33590          gmc          others      good  8 cylinders  gas   \n",
            "1  others  22590    chevrolet  silverado 1500      good  8 cylinders  gas   \n",
            "\n",
            "   odometer title_status transmission    drive    type paint_color  car_age  \n",
            "0     57923        clean        other  unknown  pickup       white        8  \n",
            "1     71229        clean        other  unknown  pickup        blue       12  \n"
          ]
        }
      ],
      "source": [
        "from sklearn.model_selection import train_test_split\n",
        "from sklearn.preprocessing import LabelEncoder\n",
        "from sklearn.ensemble import RandomForestRegressor\n",
        "from sklearn.metrics import mean_squared_error, r2_score\n",
        "\n",
        "data_copy = data\n",
        "data_types = data_copy.dtypes\n",
        "\n",
        "print(data.head(2))"
      ]
    },
    {
      "cell_type": "code",
      "execution_count": 3,
      "metadata": {
        "id": "susOtZyGXpnc"
      },
      "outputs": [],
      "source": [
        "data_copy = data_copy.dropna(subset=['odometer', 'manufacturer', 'model'])"
      ]
    },
    {
      "cell_type": "code",
      "execution_count": 4,
      "metadata": {
        "id": "tklf6GyTXvHE"
      },
      "outputs": [],
      "source": [
        "data_copy.fillna('unknown', inplace=True)"
      ]
    },
    {
      "cell_type": "code",
      "execution_count": 5,
      "metadata": {
        "id": "kq3QbIebXwiM"
      },
      "outputs": [],
      "source": [
        "data_copy = data_copy.drop_duplicates()"
      ]
    },
    {
      "cell_type": "code",
      "execution_count": 6,
      "metadata": {
        "id": "Ej3wO7a1X0RU"
      },
      "outputs": [],
      "source": [
        "manufacturer_values = data_copy['manufacturer'].value_counts()\n",
        "data_copy['manufacturer'] =  data_copy['manufacturer'].apply(lambda x: x if str(x) in manufacturer_values[:20] else 'others')"
      ]
    },
    {
      "cell_type": "code",
      "execution_count": 7,
      "metadata": {
        "id": "VS8WtRHpX1rX"
      },
      "outputs": [],
      "source": [
        "region_values = data_copy['region'].value_counts()\n",
        "data_copy['region'] = data_copy['region'].apply(lambda x: x if str(x) in region_values[:50] else 'others')\n",
        "model_values = data_copy['model'].value_counts()\n",
        "data_copy['model'] = data_copy['model'].apply(lambda x: x if str(x) in model_values[:50] else 'others')"
      ]
    },
    {
      "cell_type": "code",
      "execution_count": 8,
      "metadata": {
        "id": "FCLrGbQ1X3v5"
      },
      "outputs": [],
      "source": [
        "price_percentile25 = data_copy['price'].quantile(0.25)\n",
        "price_percentile75 = data_copy['price'].quantile(0.75)\n",
        "price_iqr = price_percentile75 - price_percentile25\n",
        "price_upper_limit = price_percentile75 + 1.5 * price_iqr\n",
        "price_lower_limit = data_copy['price'].quantile(0.15)\n",
        "new_df = data_copy[(data_copy['price'] < price_upper_limit) & (data_copy['price'] > price_lower_limit)]\n",
        "odometer_percentile75 = data_copy['odometer'].quantile(0.75)\n",
        "odometer_percentile25 = data_copy['odometer'].quantile(0.25)\n",
        "odometer_iqr = odometer_percentile75 - odometer_percentile25\n",
        "odometer_upper_limit = odometer_percentile75 + 1.5 * odometer_iqr\n",
        "odometer_lower_limit = data_copy['odometer'].quantile(0.05)\n",
        "new_df = new_df[(new_df['odometer'] < odometer_upper_limit) & (new_df['odometer'] > odometer_lower_limit)]"
      ]
    },
    {
      "cell_type": "code",
      "execution_count": 9,
      "metadata": {
        "id": "VTvumevzX6Rm",
        "colab": {
          "base_uri": "https://localhost:8080/"
        },
        "outputId": "1c38600f-936d-468c-e4f5-60246ec09f51"
      },
      "outputs": [
        {
          "output_type": "stream",
          "name": "stderr",
          "text": [
            "<ipython-input-9-40319091b89b>:1: SettingWithCopyWarning: \n",
            "A value is trying to be set on a copy of a slice from a DataFrame.\n",
            "Try using .loc[row_indexer,col_indexer] = value instead\n",
            "\n",
            "See the caveats in the documentation: https://pandas.pydata.org/pandas-docs/stable/user_guide/indexing.html#returning-a-view-versus-a-copy\n",
            "  new_df['odometer'] = new_df['odometer'].astype(int)\n"
          ]
        }
      ],
      "source": [
        "new_df['odometer'] = new_df['odometer'].astype(int)"
      ]
    },
    {
      "cell_type": "code",
      "execution_count": 11,
      "metadata": {
        "id": "Spn43i9QYAgF"
      },
      "outputs": [],
      "source": [
        "final_df = new_df.copy()"
      ]
    },
    {
      "cell_type": "markdown",
      "metadata": {
        "id": "aqdVvShag5A9"
      },
      "source": [
        "Split data into Train and Test and also deal with categorical columns"
      ]
    },
    {
      "cell_type": "code",
      "source": [
        "from sklearn.model_selection import train_test_split\n",
        "df_encoded = pd.get_dummies(final_df, columns=['region', 'manufacturer', 'model', 'condition', 'cylinders',\n",
        "                                         'fuel', 'title_status', 'transmission', 'drive', 'type', 'paint_color'])\n",
        "\n",
        "X = df_encoded.drop('price', axis=1)\n",
        "y = df_encoded['price']\n",
        "\n",
        "X_train, X_test, y_train, y_test = train_test_split(X, y, test_size=0.2, random_state=42)"
      ],
      "metadata": {
        "id": "aN8vp-j2gGet"
      },
      "execution_count": 21,
      "outputs": []
    },
    {
      "cell_type": "markdown",
      "metadata": {
        "id": "s4zA4o0YYzaD"
      },
      "source": [
        "### Running XGBoost without any distributed training and without Spark"
      ]
    },
    {
      "cell_type": "code",
      "execution_count": 23,
      "metadata": {
        "id": "cRoU2JjGYy8V",
        "colab": {
          "base_uri": "https://localhost:8080/"
        },
        "outputId": "a9f12ebd-5fd6-451f-a043-d66f6593bd8e"
      },
      "outputs": [
        {
          "output_type": "stream",
          "name": "stderr",
          "text": [
            "/usr/local/lib/python3.10/dist-packages/xgboost/core.py:160: UserWarning: [21:11:41] WARNING: /workspace/src/learner.cc:742: \n",
            "Parameters: { \"num_boost_round\" } are not used.\n",
            "\n",
            "  warnings.warn(smsg, UserWarning)\n"
          ]
        },
        {
          "output_type": "stream",
          "name": "stdout",
          "text": [
            "Training time in seconds: \n",
            "31.215203523635864\n",
            "R-squared Score: 0.8083241976373188\n",
            "Mean Squared Error: 18415503.70010001\n"
          ]
        }
      ],
      "source": [
        "import xgboost as xgb\n",
        "from sklearn.metrics import mean_squared_error\n",
        "import numpy as np\n",
        "import time\n",
        "\n",
        "# Convert the dataset into an optimized data structure called Dmatrix that XGBoost supports\n",
        "dtrain = xgb.DMatrix(X_train, label=y_train, enable_categorical=True)\n",
        "dtest = xgb.DMatrix(X_test, label=y_test, enable_categorical=True)\n",
        "\n",
        "# Specify parameters (there are a lot of tuning options here)\n",
        "params = {\n",
        "    'max_depth': 3,  # the maximum depth of each tree\n",
        "    'eta': 0.3,  # the training step for each iteration\n",
        "    'objective': 'reg:squarederror',  # regression with squared loss\n",
        "    'num_boost_round': 1000  # the number of boosting rounds or trees to build\n",
        "}\n",
        "\n",
        "# Train the model\n",
        "start = time.time()\n",
        "bst = xgb.train(params, dtrain, num_boost_round=params['num_boost_round'])\n",
        "end = time.time()\n",
        "print(\"Training time in seconds: \")\n",
        "print(end - start)\n",
        "\n",
        "# Predict the labels of the test set\n",
        "y_pred = bst.predict(dtest)\n",
        "\n",
        "# Calculate and print the mean squared error\n",
        "r2 = r2_score(y_test, y_pred)\n",
        "mse = mean_squared_error(y_test, y_pred)\n",
        "print(f\"R-squared Score: {r2}\")\n",
        "print(f\"Mean Squared Error: {mse}\")\n"
      ]
    },
    {
      "cell_type": "code",
      "source": [
        "!pip install pyspark\n"
      ],
      "metadata": {
        "colab": {
          "base_uri": "https://localhost:8080/"
        },
        "id": "ll1xxixgmI5R",
        "outputId": "3b997039-a262-44b1-e92c-45930ae4c2a8"
      },
      "execution_count": 30,
      "outputs": [
        {
          "output_type": "stream",
          "name": "stdout",
          "text": [
            "Collecting pyspark\n",
            "  Downloading pyspark-3.5.0.tar.gz (316.9 MB)\n",
            "\u001b[2K     \u001b[90m━━━━━━━━━━━━━━━━━━━━━━━━━━━━━━━━━━━━━━━━\u001b[0m \u001b[32m316.9/316.9 MB\u001b[0m \u001b[31m3.9 MB/s\u001b[0m eta \u001b[36m0:00:00\u001b[0m\n",
            "\u001b[?25h  Preparing metadata (setup.py) ... \u001b[?25l\u001b[?25hdone\n",
            "Requirement already satisfied: py4j==0.10.9.7 in /usr/local/lib/python3.10/dist-packages (from pyspark) (0.10.9.7)\n",
            "Building wheels for collected packages: pyspark\n",
            "  Building wheel for pyspark (setup.py) ... \u001b[?25l\u001b[?25hdone\n",
            "  Created wheel for pyspark: filename=pyspark-3.5.0-py2.py3-none-any.whl size=317425345 sha256=c75e4fe839f973f0df881a8ba438836a55ef18537ab705e7c9e428f281c2f6b3\n",
            "  Stored in directory: /root/.cache/pip/wheels/41/4e/10/c2cf2467f71c678cfc8a6b9ac9241e5e44a01940da8fbb17fc\n",
            "Successfully built pyspark\n",
            "Installing collected packages: pyspark\n",
            "Successfully installed pyspark-3.5.0\n"
          ]
        }
      ]
    },
    {
      "cell_type": "markdown",
      "source": [
        "### Running XGBoost with Spark"
      ],
      "metadata": {
        "id": "fnTXtJmM1Wta"
      }
    },
    {
      "cell_type": "code",
      "execution_count": 58,
      "metadata": {
        "id": "01vloFUcbM5X"
      },
      "outputs": [],
      "source": [
        "from pyspark.sql import SparkSession\n",
        "from pyspark.ml.feature import VectorAssembler\n",
        "from pyspark.sql.functions import col\n",
        "from xgboost.spark import SparkXGBRegressor\n",
        "from pyspark.ml.evaluation import RegressionEvaluator\n",
        "import time\n",
        "\n",
        "# Initialize Spark Session\n",
        "# spark = SparkSession.builder.appName(\"XGBoostRegressor\").getOrCreate()\n",
        "spark = SparkSession.builder \\\n",
        "    .appName(\"XGBoostRegressor\") \\\n",
        "    .master(\"local[2]\") \\\n",
        "    .config(\"spark.executor.cores\", \"2\") \\\n",
        "    .getOrCreate()\n",
        "\n",
        "# Load your data into a Spark DataFrame (assuming df is your pandas DataFrame)\n",
        "sdf = spark.createDataFrame(df_encoded)\n",
        "\n",
        "# Convert columns to features column (VectorAssembler is used to transform the input columns to a single vector column)\n",
        "assembler = VectorAssembler(inputCols=[c for c in sdf.columns if c != 'price'], outputCol=\"features\")\n",
        "sdf_transformed = assembler.transform(sdf)\n",
        "\n",
        "# Define the label column\n",
        "sdf_transformed = sdf_transformed.withColumnRenamed(\"price\", \"label\")\n",
        "\n",
        "# Splitting the dataset into the Training set and Test set\n",
        "train, test = sdf_transformed.randomSplit([0.8, 0.2], seed=42)\n",
        "\n"
      ]
    },
    {
      "cell_type": "code",
      "source": [
        "# numWorkers=2\n",
        "spark_reg_estimator = SparkXGBRegressor(\n",
        "    features_col=\"features\",\n",
        "    label_col=\"label\",\n",
        "    numWorkers=2,  # number of workers; adjust based on your cluster\n",
        "    maxDepth=3,\n",
        "    eta=0.3,\n",
        "    objective='reg:squarederror',\n",
        "    numRound=1000\n",
        ")\n",
        "# Train the model\n",
        "start = time.time()\n",
        "spark_model = spark_reg_estimator.fit(train)\n",
        "end = time.time()\n",
        "print(\"Training time in seconds: \", end - start)\n",
        "print(\"===================================\\n\")\n",
        "# Predict the labels of the test set\n",
        "predictions = spark_model.transform(test)\n",
        "\n",
        "# Evaluate the model for RMSE\n",
        "evaluator_rmse = RegressionEvaluator(labelCol=\"label\", predictionCol=\"prediction\", metricName=\"rmse\")\n",
        "rmse = evaluator_rmse.evaluate(predictions)\n",
        "print(\"Root Mean Squared Error: \", rmse)\n",
        "\n",
        "# Evaluate the model for R-squared\n",
        "evaluator_r2 = RegressionEvaluator(labelCol=\"label\", predictionCol=\"prediction\", metricName=\"r2\")\n",
        "r2 = evaluator_r2.evaluate(predictions)\n",
        "print(\"R-squared: \", r2)\n"
      ],
      "metadata": {
        "colab": {
          "base_uri": "https://localhost:8080/"
        },
        "id": "X9Iat_V8k6Xn",
        "outputId": "f5b23e87-fb06-47f4-95eb-720cb7d01a6c"
      },
      "execution_count": 59,
      "outputs": [
        {
          "output_type": "stream",
          "name": "stderr",
          "text": [
            "INFO:XGBoost-PySpark:Running xgboost-2.0.2 on 1 workers with\n",
            "\tbooster params: {'objective': 'reg:squarederror', 'device': 'cpu', 'numWorkers': 2, 'maxDepth': 3, 'eta': 0.3, 'numRound': 1000, 'nthread': 1}\n",
            "\ttrain_call_kwargs_params: {'verbose_eval': True, 'num_boost_round': 100}\n",
            "\tdmatrix_kwargs: {'nthread': 1, 'missing': nan}\n",
            "INFO:XGBoost-PySpark:Finished xgboost training!\n"
          ]
        },
        {
          "output_type": "stream",
          "name": "stdout",
          "text": [
            "Training time in seconds:  27.177735090255737\n",
            "===================================\n",
            "\n",
            "Root Mean Squared Error:  4395.464645043326\n",
            "R-squared:  0.798954350515485\n"
          ]
        }
      ]
    },
    {
      "cell_type": "code",
      "source": [
        "spark.conf.set(\"spark.sql.legacy.setCommandRejectsSparkCoreConfs\",\"false\")\n",
        "num_repeat = 5\n",
        "max_worker = 4\n",
        "\n",
        "\n",
        "run_time, R2, RMSE = {}, {}, {}\n",
        "for num_worker in range(1,max_worker+1):\n",
        "  print(f\"num_worker={num_worker}\")\n",
        "  spark.conf.set(\"spark.executor.cores\", str(num_worker))\n",
        "  run_time[num_worker] = []\n",
        "  R2[num_worker] = []\n",
        "  RMSE[num_worker] = []\n",
        "\n",
        "  for _ in range(num_repeat):\n",
        "    spark_reg_estimator = SparkXGBRegressor(\n",
        "        features_col=\"features\",\n",
        "        label_col=\"label\",\n",
        "        numWorkers=num_worker,  # number of workers; adjust based on your cluster\n",
        "        maxDepth=3,\n",
        "        eta=0.3,\n",
        "        objective='reg:squarederror',\n",
        "        numRound=1000\n",
        "    )\n",
        "    # Train the model\n",
        "    start = time.time()\n",
        "    spark_model = spark_reg_estimator.fit(train)\n",
        "    end = time.time()\n",
        "    run_time[num_worker].append(end - start)\n",
        "    # Predict the labels of the test set\n",
        "    predictions = spark_model.transform(test)\n",
        "\n",
        "    # Evaluate the model for RMSE\n",
        "    evaluator_rmse = RegressionEvaluator(labelCol=\"label\", predictionCol=\"prediction\", metricName=\"rmse\")\n",
        "    rmse_tmp = evaluator_rmse.evaluate(predictions)\n",
        "    RMSE[num_worker].append(rmse_tmp)\n",
        "\n",
        "    # Evaluate the model for R-squared\n",
        "    evaluator_r2 = RegressionEvaluator(labelCol=\"label\", predictionCol=\"prediction\", metricName=\"r2\")\n",
        "    r2_tmp = evaluator_r2.evaluate(predictions)\n",
        "    R2[num_worker].append(r2_tmp)\n"
      ],
      "metadata": {
        "colab": {
          "base_uri": "https://localhost:8080/"
        },
        "id": "Qrl7rUvIEpZa",
        "outputId": "cf9d51c6-2422-4ece-cd27-39223549dead"
      },
      "execution_count": 63,
      "outputs": [
        {
          "output_type": "stream",
          "name": "stdout",
          "text": [
            "num_worker=1\n"
          ]
        },
        {
          "output_type": "stream",
          "name": "stderr",
          "text": [
            "INFO:XGBoost-PySpark:Running xgboost-2.0.2 on 1 workers with\n",
            "\tbooster params: {'objective': 'reg:squarederror', 'device': 'cpu', 'numWorkers': 1, 'maxDepth': 3, 'eta': 0.3, 'numRound': 1000, 'nthread': 1}\n",
            "\ttrain_call_kwargs_params: {'verbose_eval': True, 'num_boost_round': 100}\n",
            "\tdmatrix_kwargs: {'nthread': 1, 'missing': nan}\n",
            "INFO:XGBoost-PySpark:Finished xgboost training!\n",
            "INFO:XGBoost-PySpark:Running xgboost-2.0.2 on 1 workers with\n",
            "\tbooster params: {'objective': 'reg:squarederror', 'device': 'cpu', 'numWorkers': 1, 'maxDepth': 3, 'eta': 0.3, 'numRound': 1000, 'nthread': 1}\n",
            "\ttrain_call_kwargs_params: {'verbose_eval': True, 'num_boost_round': 100}\n",
            "\tdmatrix_kwargs: {'nthread': 1, 'missing': nan}\n",
            "INFO:XGBoost-PySpark:Finished xgboost training!\n",
            "INFO:XGBoost-PySpark:Running xgboost-2.0.2 on 1 workers with\n",
            "\tbooster params: {'objective': 'reg:squarederror', 'device': 'cpu', 'numWorkers': 1, 'maxDepth': 3, 'eta': 0.3, 'numRound': 1000, 'nthread': 1}\n",
            "\ttrain_call_kwargs_params: {'verbose_eval': True, 'num_boost_round': 100}\n",
            "\tdmatrix_kwargs: {'nthread': 1, 'missing': nan}\n",
            "INFO:XGBoost-PySpark:Finished xgboost training!\n",
            "INFO:XGBoost-PySpark:Running xgboost-2.0.2 on 1 workers with\n",
            "\tbooster params: {'objective': 'reg:squarederror', 'device': 'cpu', 'numWorkers': 1, 'maxDepth': 3, 'eta': 0.3, 'numRound': 1000, 'nthread': 1}\n",
            "\ttrain_call_kwargs_params: {'verbose_eval': True, 'num_boost_round': 100}\n",
            "\tdmatrix_kwargs: {'nthread': 1, 'missing': nan}\n",
            "INFO:XGBoost-PySpark:Finished xgboost training!\n",
            "INFO:XGBoost-PySpark:Running xgboost-2.0.2 on 1 workers with\n",
            "\tbooster params: {'objective': 'reg:squarederror', 'device': 'cpu', 'numWorkers': 1, 'maxDepth': 3, 'eta': 0.3, 'numRound': 1000, 'nthread': 1}\n",
            "\ttrain_call_kwargs_params: {'verbose_eval': True, 'num_boost_round': 100}\n",
            "\tdmatrix_kwargs: {'nthread': 1, 'missing': nan}\n",
            "INFO:XGBoost-PySpark:Finished xgboost training!\n",
            "INFO:XGBoost-PySpark:Running xgboost-2.0.2 on 1 workers with\n",
            "\tbooster params: {'objective': 'reg:squarederror', 'device': 'cpu', 'numWorkers': 1, 'maxDepth': 3, 'eta': 0.3, 'numRound': 1000, 'nthread': 1}\n",
            "\ttrain_call_kwargs_params: {'verbose_eval': True, 'num_boost_round': 100}\n",
            "\tdmatrix_kwargs: {'nthread': 1, 'missing': nan}\n",
            "INFO:XGBoost-PySpark:Finished xgboost training!\n",
            "INFO:XGBoost-PySpark:Running xgboost-2.0.2 on 1 workers with\n",
            "\tbooster params: {'objective': 'reg:squarederror', 'device': 'cpu', 'numWorkers': 1, 'maxDepth': 3, 'eta': 0.3, 'numRound': 1000, 'nthread': 1}\n",
            "\ttrain_call_kwargs_params: {'verbose_eval': True, 'num_boost_round': 100}\n",
            "\tdmatrix_kwargs: {'nthread': 1, 'missing': nan}\n",
            "INFO:XGBoost-PySpark:Finished xgboost training!\n",
            "INFO:XGBoost-PySpark:Running xgboost-2.0.2 on 1 workers with\n",
            "\tbooster params: {'objective': 'reg:squarederror', 'device': 'cpu', 'numWorkers': 1, 'maxDepth': 3, 'eta': 0.3, 'numRound': 1000, 'nthread': 1}\n",
            "\ttrain_call_kwargs_params: {'verbose_eval': True, 'num_boost_round': 100}\n",
            "\tdmatrix_kwargs: {'nthread': 1, 'missing': nan}\n",
            "INFO:XGBoost-PySpark:Finished xgboost training!\n",
            "INFO:XGBoost-PySpark:Running xgboost-2.0.2 on 1 workers with\n",
            "\tbooster params: {'objective': 'reg:squarederror', 'device': 'cpu', 'numWorkers': 1, 'maxDepth': 3, 'eta': 0.3, 'numRound': 1000, 'nthread': 1}\n",
            "\ttrain_call_kwargs_params: {'verbose_eval': True, 'num_boost_round': 100}\n",
            "\tdmatrix_kwargs: {'nthread': 1, 'missing': nan}\n",
            "INFO:XGBoost-PySpark:Finished xgboost training!\n",
            "INFO:XGBoost-PySpark:Running xgboost-2.0.2 on 1 workers with\n",
            "\tbooster params: {'objective': 'reg:squarederror', 'device': 'cpu', 'numWorkers': 1, 'maxDepth': 3, 'eta': 0.3, 'numRound': 1000, 'nthread': 1}\n",
            "\ttrain_call_kwargs_params: {'verbose_eval': True, 'num_boost_round': 100}\n",
            "\tdmatrix_kwargs: {'nthread': 1, 'missing': nan}\n",
            "INFO:XGBoost-PySpark:Finished xgboost training!\n",
            "INFO:XGBoost-PySpark:Running xgboost-2.0.2 on 1 workers with\n",
            "\tbooster params: {'objective': 'reg:squarederror', 'device': 'cpu', 'numWorkers': 2, 'maxDepth': 3, 'eta': 0.3, 'numRound': 1000, 'nthread': 1}\n",
            "\ttrain_call_kwargs_params: {'verbose_eval': True, 'num_boost_round': 100}\n",
            "\tdmatrix_kwargs: {'nthread': 1, 'missing': nan}\n"
          ]
        },
        {
          "output_type": "stream",
          "name": "stdout",
          "text": [
            "num_worker=2\n"
          ]
        },
        {
          "output_type": "stream",
          "name": "stderr",
          "text": [
            "INFO:XGBoost-PySpark:Finished xgboost training!\n",
            "INFO:XGBoost-PySpark:Running xgboost-2.0.2 on 1 workers with\n",
            "\tbooster params: {'objective': 'reg:squarederror', 'device': 'cpu', 'numWorkers': 2, 'maxDepth': 3, 'eta': 0.3, 'numRound': 1000, 'nthread': 1}\n",
            "\ttrain_call_kwargs_params: {'verbose_eval': True, 'num_boost_round': 100}\n",
            "\tdmatrix_kwargs: {'nthread': 1, 'missing': nan}\n",
            "INFO:XGBoost-PySpark:Finished xgboost training!\n",
            "INFO:XGBoost-PySpark:Running xgboost-2.0.2 on 1 workers with\n",
            "\tbooster params: {'objective': 'reg:squarederror', 'device': 'cpu', 'numWorkers': 2, 'maxDepth': 3, 'eta': 0.3, 'numRound': 1000, 'nthread': 1}\n",
            "\ttrain_call_kwargs_params: {'verbose_eval': True, 'num_boost_round': 100}\n",
            "\tdmatrix_kwargs: {'nthread': 1, 'missing': nan}\n",
            "INFO:XGBoost-PySpark:Finished xgboost training!\n",
            "INFO:XGBoost-PySpark:Running xgboost-2.0.2 on 1 workers with\n",
            "\tbooster params: {'objective': 'reg:squarederror', 'device': 'cpu', 'numWorkers': 2, 'maxDepth': 3, 'eta': 0.3, 'numRound': 1000, 'nthread': 1}\n",
            "\ttrain_call_kwargs_params: {'verbose_eval': True, 'num_boost_round': 100}\n",
            "\tdmatrix_kwargs: {'nthread': 1, 'missing': nan}\n",
            "INFO:XGBoost-PySpark:Finished xgboost training!\n",
            "INFO:XGBoost-PySpark:Running xgboost-2.0.2 on 1 workers with\n",
            "\tbooster params: {'objective': 'reg:squarederror', 'device': 'cpu', 'numWorkers': 2, 'maxDepth': 3, 'eta': 0.3, 'numRound': 1000, 'nthread': 1}\n",
            "\ttrain_call_kwargs_params: {'verbose_eval': True, 'num_boost_round': 100}\n",
            "\tdmatrix_kwargs: {'nthread': 1, 'missing': nan}\n",
            "INFO:XGBoost-PySpark:Finished xgboost training!\n",
            "INFO:XGBoost-PySpark:Running xgboost-2.0.2 on 1 workers with\n",
            "\tbooster params: {'objective': 'reg:squarederror', 'device': 'cpu', 'numWorkers': 2, 'maxDepth': 3, 'eta': 0.3, 'numRound': 1000, 'nthread': 1}\n",
            "\ttrain_call_kwargs_params: {'verbose_eval': True, 'num_boost_round': 100}\n",
            "\tdmatrix_kwargs: {'nthread': 1, 'missing': nan}\n",
            "INFO:XGBoost-PySpark:Finished xgboost training!\n",
            "INFO:XGBoost-PySpark:Running xgboost-2.0.2 on 1 workers with\n",
            "\tbooster params: {'objective': 'reg:squarederror', 'device': 'cpu', 'numWorkers': 2, 'maxDepth': 3, 'eta': 0.3, 'numRound': 1000, 'nthread': 1}\n",
            "\ttrain_call_kwargs_params: {'verbose_eval': True, 'num_boost_round': 100}\n",
            "\tdmatrix_kwargs: {'nthread': 1, 'missing': nan}\n",
            "INFO:XGBoost-PySpark:Finished xgboost training!\n",
            "INFO:XGBoost-PySpark:Running xgboost-2.0.2 on 1 workers with\n",
            "\tbooster params: {'objective': 'reg:squarederror', 'device': 'cpu', 'numWorkers': 2, 'maxDepth': 3, 'eta': 0.3, 'numRound': 1000, 'nthread': 1}\n",
            "\ttrain_call_kwargs_params: {'verbose_eval': True, 'num_boost_round': 100}\n",
            "\tdmatrix_kwargs: {'nthread': 1, 'missing': nan}\n",
            "INFO:XGBoost-PySpark:Finished xgboost training!\n",
            "INFO:XGBoost-PySpark:Running xgboost-2.0.2 on 1 workers with\n",
            "\tbooster params: {'objective': 'reg:squarederror', 'device': 'cpu', 'numWorkers': 2, 'maxDepth': 3, 'eta': 0.3, 'numRound': 1000, 'nthread': 1}\n",
            "\ttrain_call_kwargs_params: {'verbose_eval': True, 'num_boost_round': 100}\n",
            "\tdmatrix_kwargs: {'nthread': 1, 'missing': nan}\n",
            "INFO:XGBoost-PySpark:Finished xgboost training!\n",
            "INFO:XGBoost-PySpark:Running xgboost-2.0.2 on 1 workers with\n",
            "\tbooster params: {'objective': 'reg:squarederror', 'device': 'cpu', 'numWorkers': 2, 'maxDepth': 3, 'eta': 0.3, 'numRound': 1000, 'nthread': 1}\n",
            "\ttrain_call_kwargs_params: {'verbose_eval': True, 'num_boost_round': 100}\n",
            "\tdmatrix_kwargs: {'nthread': 1, 'missing': nan}\n",
            "INFO:XGBoost-PySpark:Finished xgboost training!\n"
          ]
        },
        {
          "output_type": "stream",
          "name": "stdout",
          "text": [
            "num_worker=3\n"
          ]
        },
        {
          "output_type": "stream",
          "name": "stderr",
          "text": [
            "INFO:XGBoost-PySpark:Running xgboost-2.0.2 on 1 workers with\n",
            "\tbooster params: {'objective': 'reg:squarederror', 'device': 'cpu', 'numWorkers': 3, 'maxDepth': 3, 'eta': 0.3, 'numRound': 1000, 'nthread': 1}\n",
            "\ttrain_call_kwargs_params: {'verbose_eval': True, 'num_boost_round': 100}\n",
            "\tdmatrix_kwargs: {'nthread': 1, 'missing': nan}\n",
            "INFO:XGBoost-PySpark:Finished xgboost training!\n",
            "INFO:XGBoost-PySpark:Running xgboost-2.0.2 on 1 workers with\n",
            "\tbooster params: {'objective': 'reg:squarederror', 'device': 'cpu', 'numWorkers': 3, 'maxDepth': 3, 'eta': 0.3, 'numRound': 1000, 'nthread': 1}\n",
            "\ttrain_call_kwargs_params: {'verbose_eval': True, 'num_boost_round': 100}\n",
            "\tdmatrix_kwargs: {'nthread': 1, 'missing': nan}\n",
            "INFO:XGBoost-PySpark:Finished xgboost training!\n",
            "INFO:XGBoost-PySpark:Running xgboost-2.0.2 on 1 workers with\n",
            "\tbooster params: {'objective': 'reg:squarederror', 'device': 'cpu', 'numWorkers': 3, 'maxDepth': 3, 'eta': 0.3, 'numRound': 1000, 'nthread': 1}\n",
            "\ttrain_call_kwargs_params: {'verbose_eval': True, 'num_boost_round': 100}\n",
            "\tdmatrix_kwargs: {'nthread': 1, 'missing': nan}\n",
            "INFO:XGBoost-PySpark:Finished xgboost training!\n",
            "INFO:XGBoost-PySpark:Running xgboost-2.0.2 on 1 workers with\n",
            "\tbooster params: {'objective': 'reg:squarederror', 'device': 'cpu', 'numWorkers': 3, 'maxDepth': 3, 'eta': 0.3, 'numRound': 1000, 'nthread': 1}\n",
            "\ttrain_call_kwargs_params: {'verbose_eval': True, 'num_boost_round': 100}\n",
            "\tdmatrix_kwargs: {'nthread': 1, 'missing': nan}\n",
            "INFO:XGBoost-PySpark:Finished xgboost training!\n",
            "INFO:XGBoost-PySpark:Running xgboost-2.0.2 on 1 workers with\n",
            "\tbooster params: {'objective': 'reg:squarederror', 'device': 'cpu', 'numWorkers': 3, 'maxDepth': 3, 'eta': 0.3, 'numRound': 1000, 'nthread': 1}\n",
            "\ttrain_call_kwargs_params: {'verbose_eval': True, 'num_boost_round': 100}\n",
            "\tdmatrix_kwargs: {'nthread': 1, 'missing': nan}\n",
            "INFO:XGBoost-PySpark:Finished xgboost training!\n",
            "INFO:XGBoost-PySpark:Running xgboost-2.0.2 on 1 workers with\n",
            "\tbooster params: {'objective': 'reg:squarederror', 'device': 'cpu', 'numWorkers': 3, 'maxDepth': 3, 'eta': 0.3, 'numRound': 1000, 'nthread': 1}\n",
            "\ttrain_call_kwargs_params: {'verbose_eval': True, 'num_boost_round': 100}\n",
            "\tdmatrix_kwargs: {'nthread': 1, 'missing': nan}\n",
            "INFO:XGBoost-PySpark:Finished xgboost training!\n",
            "INFO:XGBoost-PySpark:Running xgboost-2.0.2 on 1 workers with\n",
            "\tbooster params: {'objective': 'reg:squarederror', 'device': 'cpu', 'numWorkers': 3, 'maxDepth': 3, 'eta': 0.3, 'numRound': 1000, 'nthread': 1}\n",
            "\ttrain_call_kwargs_params: {'verbose_eval': True, 'num_boost_round': 100}\n",
            "\tdmatrix_kwargs: {'nthread': 1, 'missing': nan}\n",
            "INFO:XGBoost-PySpark:Finished xgboost training!\n",
            "INFO:XGBoost-PySpark:Running xgboost-2.0.2 on 1 workers with\n",
            "\tbooster params: {'objective': 'reg:squarederror', 'device': 'cpu', 'numWorkers': 3, 'maxDepth': 3, 'eta': 0.3, 'numRound': 1000, 'nthread': 1}\n",
            "\ttrain_call_kwargs_params: {'verbose_eval': True, 'num_boost_round': 100}\n",
            "\tdmatrix_kwargs: {'nthread': 1, 'missing': nan}\n",
            "INFO:XGBoost-PySpark:Finished xgboost training!\n",
            "INFO:XGBoost-PySpark:Running xgboost-2.0.2 on 1 workers with\n",
            "\tbooster params: {'objective': 'reg:squarederror', 'device': 'cpu', 'numWorkers': 3, 'maxDepth': 3, 'eta': 0.3, 'numRound': 1000, 'nthread': 1}\n",
            "\ttrain_call_kwargs_params: {'verbose_eval': True, 'num_boost_round': 100}\n",
            "\tdmatrix_kwargs: {'nthread': 1, 'missing': nan}\n",
            "INFO:XGBoost-PySpark:Finished xgboost training!\n",
            "INFO:XGBoost-PySpark:Running xgboost-2.0.2 on 1 workers with\n",
            "\tbooster params: {'objective': 'reg:squarederror', 'device': 'cpu', 'numWorkers': 3, 'maxDepth': 3, 'eta': 0.3, 'numRound': 1000, 'nthread': 1}\n",
            "\ttrain_call_kwargs_params: {'verbose_eval': True, 'num_boost_round': 100}\n",
            "\tdmatrix_kwargs: {'nthread': 1, 'missing': nan}\n",
            "INFO:XGBoost-PySpark:Finished xgboost training!\n"
          ]
        },
        {
          "output_type": "stream",
          "name": "stdout",
          "text": [
            "num_worker=4\n"
          ]
        },
        {
          "output_type": "stream",
          "name": "stderr",
          "text": [
            "INFO:XGBoost-PySpark:Running xgboost-2.0.2 on 1 workers with\n",
            "\tbooster params: {'objective': 'reg:squarederror', 'device': 'cpu', 'numWorkers': 4, 'maxDepth': 3, 'eta': 0.3, 'numRound': 1000, 'nthread': 1}\n",
            "\ttrain_call_kwargs_params: {'verbose_eval': True, 'num_boost_round': 100}\n",
            "\tdmatrix_kwargs: {'nthread': 1, 'missing': nan}\n",
            "INFO:XGBoost-PySpark:Finished xgboost training!\n",
            "INFO:XGBoost-PySpark:Running xgboost-2.0.2 on 1 workers with\n",
            "\tbooster params: {'objective': 'reg:squarederror', 'device': 'cpu', 'numWorkers': 4, 'maxDepth': 3, 'eta': 0.3, 'numRound': 1000, 'nthread': 1}\n",
            "\ttrain_call_kwargs_params: {'verbose_eval': True, 'num_boost_round': 100}\n",
            "\tdmatrix_kwargs: {'nthread': 1, 'missing': nan}\n",
            "INFO:XGBoost-PySpark:Finished xgboost training!\n",
            "INFO:XGBoost-PySpark:Running xgboost-2.0.2 on 1 workers with\n",
            "\tbooster params: {'objective': 'reg:squarederror', 'device': 'cpu', 'numWorkers': 4, 'maxDepth': 3, 'eta': 0.3, 'numRound': 1000, 'nthread': 1}\n",
            "\ttrain_call_kwargs_params: {'verbose_eval': True, 'num_boost_round': 100}\n",
            "\tdmatrix_kwargs: {'nthread': 1, 'missing': nan}\n",
            "INFO:XGBoost-PySpark:Finished xgboost training!\n",
            "INFO:XGBoost-PySpark:Running xgboost-2.0.2 on 1 workers with\n",
            "\tbooster params: {'objective': 'reg:squarederror', 'device': 'cpu', 'numWorkers': 4, 'maxDepth': 3, 'eta': 0.3, 'numRound': 1000, 'nthread': 1}\n",
            "\ttrain_call_kwargs_params: {'verbose_eval': True, 'num_boost_round': 100}\n",
            "\tdmatrix_kwargs: {'nthread': 1, 'missing': nan}\n",
            "INFO:XGBoost-PySpark:Finished xgboost training!\n",
            "INFO:XGBoost-PySpark:Running xgboost-2.0.2 on 1 workers with\n",
            "\tbooster params: {'objective': 'reg:squarederror', 'device': 'cpu', 'numWorkers': 4, 'maxDepth': 3, 'eta': 0.3, 'numRound': 1000, 'nthread': 1}\n",
            "\ttrain_call_kwargs_params: {'verbose_eval': True, 'num_boost_round': 100}\n",
            "\tdmatrix_kwargs: {'nthread': 1, 'missing': nan}\n",
            "INFO:XGBoost-PySpark:Finished xgboost training!\n",
            "INFO:XGBoost-PySpark:Running xgboost-2.0.2 on 1 workers with\n",
            "\tbooster params: {'objective': 'reg:squarederror', 'device': 'cpu', 'numWorkers': 4, 'maxDepth': 3, 'eta': 0.3, 'numRound': 1000, 'nthread': 1}\n",
            "\ttrain_call_kwargs_params: {'verbose_eval': True, 'num_boost_round': 100}\n",
            "\tdmatrix_kwargs: {'nthread': 1, 'missing': nan}\n",
            "INFO:XGBoost-PySpark:Finished xgboost training!\n",
            "INFO:XGBoost-PySpark:Running xgboost-2.0.2 on 1 workers with\n",
            "\tbooster params: {'objective': 'reg:squarederror', 'device': 'cpu', 'numWorkers': 4, 'maxDepth': 3, 'eta': 0.3, 'numRound': 1000, 'nthread': 1}\n",
            "\ttrain_call_kwargs_params: {'verbose_eval': True, 'num_boost_round': 100}\n",
            "\tdmatrix_kwargs: {'nthread': 1, 'missing': nan}\n",
            "INFO:XGBoost-PySpark:Finished xgboost training!\n",
            "INFO:XGBoost-PySpark:Running xgboost-2.0.2 on 1 workers with\n",
            "\tbooster params: {'objective': 'reg:squarederror', 'device': 'cpu', 'numWorkers': 4, 'maxDepth': 3, 'eta': 0.3, 'numRound': 1000, 'nthread': 1}\n",
            "\ttrain_call_kwargs_params: {'verbose_eval': True, 'num_boost_round': 100}\n",
            "\tdmatrix_kwargs: {'nthread': 1, 'missing': nan}\n",
            "INFO:XGBoost-PySpark:Finished xgboost training!\n",
            "INFO:XGBoost-PySpark:Running xgboost-2.0.2 on 1 workers with\n",
            "\tbooster params: {'objective': 'reg:squarederror', 'device': 'cpu', 'numWorkers': 4, 'maxDepth': 3, 'eta': 0.3, 'numRound': 1000, 'nthread': 1}\n",
            "\ttrain_call_kwargs_params: {'verbose_eval': True, 'num_boost_round': 100}\n",
            "\tdmatrix_kwargs: {'nthread': 1, 'missing': nan}\n",
            "INFO:XGBoost-PySpark:Finished xgboost training!\n",
            "INFO:XGBoost-PySpark:Running xgboost-2.0.2 on 1 workers with\n",
            "\tbooster params: {'objective': 'reg:squarederror', 'device': 'cpu', 'numWorkers': 4, 'maxDepth': 3, 'eta': 0.3, 'numRound': 1000, 'nthread': 1}\n",
            "\ttrain_call_kwargs_params: {'verbose_eval': True, 'num_boost_round': 100}\n",
            "\tdmatrix_kwargs: {'nthread': 1, 'missing': nan}\n",
            "INFO:XGBoost-PySpark:Finished xgboost training!\n"
          ]
        },
        {
          "output_type": "stream",
          "name": "stdout",
          "text": [
            "num_worker=5\n"
          ]
        },
        {
          "output_type": "stream",
          "name": "stderr",
          "text": [
            "INFO:XGBoost-PySpark:Running xgboost-2.0.2 on 1 workers with\n",
            "\tbooster params: {'objective': 'reg:squarederror', 'device': 'cpu', 'numWorkers': 5, 'maxDepth': 3, 'eta': 0.3, 'numRound': 1000, 'nthread': 1}\n",
            "\ttrain_call_kwargs_params: {'verbose_eval': True, 'num_boost_round': 100}\n",
            "\tdmatrix_kwargs: {'nthread': 1, 'missing': nan}\n",
            "INFO:XGBoost-PySpark:Finished xgboost training!\n",
            "INFO:XGBoost-PySpark:Running xgboost-2.0.2 on 1 workers with\n",
            "\tbooster params: {'objective': 'reg:squarederror', 'device': 'cpu', 'numWorkers': 5, 'maxDepth': 3, 'eta': 0.3, 'numRound': 1000, 'nthread': 1}\n",
            "\ttrain_call_kwargs_params: {'verbose_eval': True, 'num_boost_round': 100}\n",
            "\tdmatrix_kwargs: {'nthread': 1, 'missing': nan}\n",
            "INFO:XGBoost-PySpark:Finished xgboost training!\n",
            "INFO:XGBoost-PySpark:Running xgboost-2.0.2 on 1 workers with\n",
            "\tbooster params: {'objective': 'reg:squarederror', 'device': 'cpu', 'numWorkers': 5, 'maxDepth': 3, 'eta': 0.3, 'numRound': 1000, 'nthread': 1}\n",
            "\ttrain_call_kwargs_params: {'verbose_eval': True, 'num_boost_round': 100}\n",
            "\tdmatrix_kwargs: {'nthread': 1, 'missing': nan}\n",
            "INFO:XGBoost-PySpark:Finished xgboost training!\n",
            "INFO:XGBoost-PySpark:Running xgboost-2.0.2 on 1 workers with\n",
            "\tbooster params: {'objective': 'reg:squarederror', 'device': 'cpu', 'numWorkers': 5, 'maxDepth': 3, 'eta': 0.3, 'numRound': 1000, 'nthread': 1}\n",
            "\ttrain_call_kwargs_params: {'verbose_eval': True, 'num_boost_round': 100}\n",
            "\tdmatrix_kwargs: {'nthread': 1, 'missing': nan}\n",
            "INFO:XGBoost-PySpark:Finished xgboost training!\n",
            "INFO:XGBoost-PySpark:Running xgboost-2.0.2 on 1 workers with\n",
            "\tbooster params: {'objective': 'reg:squarederror', 'device': 'cpu', 'numWorkers': 5, 'maxDepth': 3, 'eta': 0.3, 'numRound': 1000, 'nthread': 1}\n",
            "\ttrain_call_kwargs_params: {'verbose_eval': True, 'num_boost_round': 100}\n",
            "\tdmatrix_kwargs: {'nthread': 1, 'missing': nan}\n",
            "INFO:XGBoost-PySpark:Finished xgboost training!\n",
            "INFO:XGBoost-PySpark:Running xgboost-2.0.2 on 1 workers with\n",
            "\tbooster params: {'objective': 'reg:squarederror', 'device': 'cpu', 'numWorkers': 5, 'maxDepth': 3, 'eta': 0.3, 'numRound': 1000, 'nthread': 1}\n",
            "\ttrain_call_kwargs_params: {'verbose_eval': True, 'num_boost_round': 100}\n",
            "\tdmatrix_kwargs: {'nthread': 1, 'missing': nan}\n",
            "INFO:XGBoost-PySpark:Finished xgboost training!\n",
            "INFO:XGBoost-PySpark:Running xgboost-2.0.2 on 1 workers with\n",
            "\tbooster params: {'objective': 'reg:squarederror', 'device': 'cpu', 'numWorkers': 5, 'maxDepth': 3, 'eta': 0.3, 'numRound': 1000, 'nthread': 1}\n",
            "\ttrain_call_kwargs_params: {'verbose_eval': True, 'num_boost_round': 100}\n",
            "\tdmatrix_kwargs: {'nthread': 1, 'missing': nan}\n",
            "INFO:XGBoost-PySpark:Finished xgboost training!\n",
            "INFO:XGBoost-PySpark:Running xgboost-2.0.2 on 1 workers with\n",
            "\tbooster params: {'objective': 'reg:squarederror', 'device': 'cpu', 'numWorkers': 5, 'maxDepth': 3, 'eta': 0.3, 'numRound': 1000, 'nthread': 1}\n",
            "\ttrain_call_kwargs_params: {'verbose_eval': True, 'num_boost_round': 100}\n",
            "\tdmatrix_kwargs: {'nthread': 1, 'missing': nan}\n",
            "INFO:XGBoost-PySpark:Finished xgboost training!\n",
            "INFO:XGBoost-PySpark:Running xgboost-2.0.2 on 1 workers with\n",
            "\tbooster params: {'objective': 'reg:squarederror', 'device': 'cpu', 'numWorkers': 5, 'maxDepth': 3, 'eta': 0.3, 'numRound': 1000, 'nthread': 1}\n",
            "\ttrain_call_kwargs_params: {'verbose_eval': True, 'num_boost_round': 100}\n",
            "\tdmatrix_kwargs: {'nthread': 1, 'missing': nan}\n",
            "INFO:XGBoost-PySpark:Finished xgboost training!\n",
            "INFO:XGBoost-PySpark:Running xgboost-2.0.2 on 1 workers with\n",
            "\tbooster params: {'objective': 'reg:squarederror', 'device': 'cpu', 'numWorkers': 5, 'maxDepth': 3, 'eta': 0.3, 'numRound': 1000, 'nthread': 1}\n",
            "\ttrain_call_kwargs_params: {'verbose_eval': True, 'num_boost_round': 100}\n",
            "\tdmatrix_kwargs: {'nthread': 1, 'missing': nan}\n",
            "INFO:XGBoost-PySpark:Finished xgboost training!\n"
          ]
        },
        {
          "output_type": "stream",
          "name": "stdout",
          "text": [
            "num_worker=6\n"
          ]
        },
        {
          "output_type": "stream",
          "name": "stderr",
          "text": [
            "INFO:XGBoost-PySpark:Running xgboost-2.0.2 on 1 workers with\n",
            "\tbooster params: {'objective': 'reg:squarederror', 'device': 'cpu', 'numWorkers': 6, 'maxDepth': 3, 'eta': 0.3, 'numRound': 1000, 'nthread': 1}\n",
            "\ttrain_call_kwargs_params: {'verbose_eval': True, 'num_boost_round': 100}\n",
            "\tdmatrix_kwargs: {'nthread': 1, 'missing': nan}\n",
            "INFO:XGBoost-PySpark:Finished xgboost training!\n",
            "INFO:XGBoost-PySpark:Running xgboost-2.0.2 on 1 workers with\n",
            "\tbooster params: {'objective': 'reg:squarederror', 'device': 'cpu', 'numWorkers': 6, 'maxDepth': 3, 'eta': 0.3, 'numRound': 1000, 'nthread': 1}\n",
            "\ttrain_call_kwargs_params: {'verbose_eval': True, 'num_boost_round': 100}\n",
            "\tdmatrix_kwargs: {'nthread': 1, 'missing': nan}\n",
            "INFO:XGBoost-PySpark:Finished xgboost training!\n",
            "INFO:XGBoost-PySpark:Running xgboost-2.0.2 on 1 workers with\n",
            "\tbooster params: {'objective': 'reg:squarederror', 'device': 'cpu', 'numWorkers': 6, 'maxDepth': 3, 'eta': 0.3, 'numRound': 1000, 'nthread': 1}\n",
            "\ttrain_call_kwargs_params: {'verbose_eval': True, 'num_boost_round': 100}\n",
            "\tdmatrix_kwargs: {'nthread': 1, 'missing': nan}\n",
            "INFO:XGBoost-PySpark:Finished xgboost training!\n",
            "INFO:XGBoost-PySpark:Running xgboost-2.0.2 on 1 workers with\n",
            "\tbooster params: {'objective': 'reg:squarederror', 'device': 'cpu', 'numWorkers': 6, 'maxDepth': 3, 'eta': 0.3, 'numRound': 1000, 'nthread': 1}\n",
            "\ttrain_call_kwargs_params: {'verbose_eval': True, 'num_boost_round': 100}\n",
            "\tdmatrix_kwargs: {'nthread': 1, 'missing': nan}\n",
            "INFO:XGBoost-PySpark:Finished xgboost training!\n",
            "INFO:XGBoost-PySpark:Running xgboost-2.0.2 on 1 workers with\n",
            "\tbooster params: {'objective': 'reg:squarederror', 'device': 'cpu', 'numWorkers': 6, 'maxDepth': 3, 'eta': 0.3, 'numRound': 1000, 'nthread': 1}\n",
            "\ttrain_call_kwargs_params: {'verbose_eval': True, 'num_boost_round': 100}\n",
            "\tdmatrix_kwargs: {'nthread': 1, 'missing': nan}\n",
            "INFO:XGBoost-PySpark:Finished xgboost training!\n",
            "INFO:XGBoost-PySpark:Running xgboost-2.0.2 on 1 workers with\n",
            "\tbooster params: {'objective': 'reg:squarederror', 'device': 'cpu', 'numWorkers': 6, 'maxDepth': 3, 'eta': 0.3, 'numRound': 1000, 'nthread': 1}\n",
            "\ttrain_call_kwargs_params: {'verbose_eval': True, 'num_boost_round': 100}\n",
            "\tdmatrix_kwargs: {'nthread': 1, 'missing': nan}\n",
            "INFO:XGBoost-PySpark:Finished xgboost training!\n",
            "INFO:XGBoost-PySpark:Running xgboost-2.0.2 on 1 workers with\n",
            "\tbooster params: {'objective': 'reg:squarederror', 'device': 'cpu', 'numWorkers': 6, 'maxDepth': 3, 'eta': 0.3, 'numRound': 1000, 'nthread': 1}\n",
            "\ttrain_call_kwargs_params: {'verbose_eval': True, 'num_boost_round': 100}\n",
            "\tdmatrix_kwargs: {'nthread': 1, 'missing': nan}\n",
            "INFO:XGBoost-PySpark:Finished xgboost training!\n",
            "INFO:XGBoost-PySpark:Running xgboost-2.0.2 on 1 workers with\n",
            "\tbooster params: {'objective': 'reg:squarederror', 'device': 'cpu', 'numWorkers': 6, 'maxDepth': 3, 'eta': 0.3, 'numRound': 1000, 'nthread': 1}\n",
            "\ttrain_call_kwargs_params: {'verbose_eval': True, 'num_boost_round': 100}\n",
            "\tdmatrix_kwargs: {'nthread': 1, 'missing': nan}\n",
            "INFO:XGBoost-PySpark:Finished xgboost training!\n",
            "INFO:XGBoost-PySpark:Running xgboost-2.0.2 on 1 workers with\n",
            "\tbooster params: {'objective': 'reg:squarederror', 'device': 'cpu', 'numWorkers': 6, 'maxDepth': 3, 'eta': 0.3, 'numRound': 1000, 'nthread': 1}\n",
            "\ttrain_call_kwargs_params: {'verbose_eval': True, 'num_boost_round': 100}\n",
            "\tdmatrix_kwargs: {'nthread': 1, 'missing': nan}\n",
            "INFO:XGBoost-PySpark:Finished xgboost training!\n",
            "INFO:XGBoost-PySpark:Running xgboost-2.0.2 on 1 workers with\n",
            "\tbooster params: {'objective': 'reg:squarederror', 'device': 'cpu', 'numWorkers': 6, 'maxDepth': 3, 'eta': 0.3, 'numRound': 1000, 'nthread': 1}\n",
            "\ttrain_call_kwargs_params: {'verbose_eval': True, 'num_boost_round': 100}\n",
            "\tdmatrix_kwargs: {'nthread': 1, 'missing': nan}\n",
            "INFO:XGBoost-PySpark:Finished xgboost training!\n",
            "INFO:XGBoost-PySpark:Running xgboost-2.0.2 on 1 workers with\n",
            "\tbooster params: {'objective': 'reg:squarederror', 'device': 'cpu', 'numWorkers': 7, 'maxDepth': 3, 'eta': 0.3, 'numRound': 1000, 'nthread': 1}\n",
            "\ttrain_call_kwargs_params: {'verbose_eval': True, 'num_boost_round': 100}\n",
            "\tdmatrix_kwargs: {'nthread': 1, 'missing': nan}\n"
          ]
        },
        {
          "output_type": "stream",
          "name": "stdout",
          "text": [
            "num_worker=7\n"
          ]
        },
        {
          "output_type": "stream",
          "name": "stderr",
          "text": [
            "INFO:XGBoost-PySpark:Finished xgboost training!\n",
            "INFO:XGBoost-PySpark:Running xgboost-2.0.2 on 1 workers with\n",
            "\tbooster params: {'objective': 'reg:squarederror', 'device': 'cpu', 'numWorkers': 7, 'maxDepth': 3, 'eta': 0.3, 'numRound': 1000, 'nthread': 1}\n",
            "\ttrain_call_kwargs_params: {'verbose_eval': True, 'num_boost_round': 100}\n",
            "\tdmatrix_kwargs: {'nthread': 1, 'missing': nan}\n",
            "INFO:XGBoost-PySpark:Finished xgboost training!\n",
            "INFO:XGBoost-PySpark:Running xgboost-2.0.2 on 1 workers with\n",
            "\tbooster params: {'objective': 'reg:squarederror', 'device': 'cpu', 'numWorkers': 7, 'maxDepth': 3, 'eta': 0.3, 'numRound': 1000, 'nthread': 1}\n",
            "\ttrain_call_kwargs_params: {'verbose_eval': True, 'num_boost_round': 100}\n",
            "\tdmatrix_kwargs: {'nthread': 1, 'missing': nan}\n",
            "INFO:XGBoost-PySpark:Finished xgboost training!\n",
            "INFO:XGBoost-PySpark:Running xgboost-2.0.2 on 1 workers with\n",
            "\tbooster params: {'objective': 'reg:squarederror', 'device': 'cpu', 'numWorkers': 7, 'maxDepth': 3, 'eta': 0.3, 'numRound': 1000, 'nthread': 1}\n",
            "\ttrain_call_kwargs_params: {'verbose_eval': True, 'num_boost_round': 100}\n",
            "\tdmatrix_kwargs: {'nthread': 1, 'missing': nan}\n",
            "INFO:XGBoost-PySpark:Finished xgboost training!\n",
            "INFO:XGBoost-PySpark:Running xgboost-2.0.2 on 1 workers with\n",
            "\tbooster params: {'objective': 'reg:squarederror', 'device': 'cpu', 'numWorkers': 7, 'maxDepth': 3, 'eta': 0.3, 'numRound': 1000, 'nthread': 1}\n",
            "\ttrain_call_kwargs_params: {'verbose_eval': True, 'num_boost_round': 100}\n",
            "\tdmatrix_kwargs: {'nthread': 1, 'missing': nan}\n",
            "INFO:XGBoost-PySpark:Finished xgboost training!\n",
            "INFO:XGBoost-PySpark:Running xgboost-2.0.2 on 1 workers with\n",
            "\tbooster params: {'objective': 'reg:squarederror', 'device': 'cpu', 'numWorkers': 7, 'maxDepth': 3, 'eta': 0.3, 'numRound': 1000, 'nthread': 1}\n",
            "\ttrain_call_kwargs_params: {'verbose_eval': True, 'num_boost_round': 100}\n",
            "\tdmatrix_kwargs: {'nthread': 1, 'missing': nan}\n",
            "INFO:XGBoost-PySpark:Finished xgboost training!\n",
            "INFO:XGBoost-PySpark:Running xgboost-2.0.2 on 1 workers with\n",
            "\tbooster params: {'objective': 'reg:squarederror', 'device': 'cpu', 'numWorkers': 7, 'maxDepth': 3, 'eta': 0.3, 'numRound': 1000, 'nthread': 1}\n",
            "\ttrain_call_kwargs_params: {'verbose_eval': True, 'num_boost_round': 100}\n",
            "\tdmatrix_kwargs: {'nthread': 1, 'missing': nan}\n",
            "INFO:XGBoost-PySpark:Finished xgboost training!\n",
            "INFO:XGBoost-PySpark:Running xgboost-2.0.2 on 1 workers with\n",
            "\tbooster params: {'objective': 'reg:squarederror', 'device': 'cpu', 'numWorkers': 7, 'maxDepth': 3, 'eta': 0.3, 'numRound': 1000, 'nthread': 1}\n",
            "\ttrain_call_kwargs_params: {'verbose_eval': True, 'num_boost_round': 100}\n",
            "\tdmatrix_kwargs: {'nthread': 1, 'missing': nan}\n",
            "INFO:XGBoost-PySpark:Finished xgboost training!\n",
            "INFO:XGBoost-PySpark:Running xgboost-2.0.2 on 1 workers with\n",
            "\tbooster params: {'objective': 'reg:squarederror', 'device': 'cpu', 'numWorkers': 7, 'maxDepth': 3, 'eta': 0.3, 'numRound': 1000, 'nthread': 1}\n",
            "\ttrain_call_kwargs_params: {'verbose_eval': True, 'num_boost_round': 100}\n",
            "\tdmatrix_kwargs: {'nthread': 1, 'missing': nan}\n",
            "INFO:XGBoost-PySpark:Finished xgboost training!\n",
            "INFO:XGBoost-PySpark:Running xgboost-2.0.2 on 1 workers with\n",
            "\tbooster params: {'objective': 'reg:squarederror', 'device': 'cpu', 'numWorkers': 7, 'maxDepth': 3, 'eta': 0.3, 'numRound': 1000, 'nthread': 1}\n",
            "\ttrain_call_kwargs_params: {'verbose_eval': True, 'num_boost_round': 100}\n",
            "\tdmatrix_kwargs: {'nthread': 1, 'missing': nan}\n",
            "INFO:XGBoost-PySpark:Finished xgboost training!\n",
            "INFO:XGBoost-PySpark:Running xgboost-2.0.2 on 1 workers with\n",
            "\tbooster params: {'objective': 'reg:squarederror', 'device': 'cpu', 'numWorkers': 8, 'maxDepth': 3, 'eta': 0.3, 'numRound': 1000, 'nthread': 1}\n",
            "\ttrain_call_kwargs_params: {'verbose_eval': True, 'num_boost_round': 100}\n",
            "\tdmatrix_kwargs: {'nthread': 1, 'missing': nan}\n"
          ]
        },
        {
          "output_type": "stream",
          "name": "stdout",
          "text": [
            "num_worker=8\n"
          ]
        },
        {
          "output_type": "stream",
          "name": "stderr",
          "text": [
            "INFO:XGBoost-PySpark:Finished xgboost training!\n",
            "INFO:XGBoost-PySpark:Running xgboost-2.0.2 on 1 workers with\n",
            "\tbooster params: {'objective': 'reg:squarederror', 'device': 'cpu', 'numWorkers': 8, 'maxDepth': 3, 'eta': 0.3, 'numRound': 1000, 'nthread': 1}\n",
            "\ttrain_call_kwargs_params: {'verbose_eval': True, 'num_boost_round': 100}\n",
            "\tdmatrix_kwargs: {'nthread': 1, 'missing': nan}\n",
            "INFO:XGBoost-PySpark:Finished xgboost training!\n",
            "INFO:XGBoost-PySpark:Running xgboost-2.0.2 on 1 workers with\n",
            "\tbooster params: {'objective': 'reg:squarederror', 'device': 'cpu', 'numWorkers': 8, 'maxDepth': 3, 'eta': 0.3, 'numRound': 1000, 'nthread': 1}\n",
            "\ttrain_call_kwargs_params: {'verbose_eval': True, 'num_boost_round': 100}\n",
            "\tdmatrix_kwargs: {'nthread': 1, 'missing': nan}\n",
            "INFO:XGBoost-PySpark:Finished xgboost training!\n",
            "INFO:XGBoost-PySpark:Running xgboost-2.0.2 on 1 workers with\n",
            "\tbooster params: {'objective': 'reg:squarederror', 'device': 'cpu', 'numWorkers': 8, 'maxDepth': 3, 'eta': 0.3, 'numRound': 1000, 'nthread': 1}\n",
            "\ttrain_call_kwargs_params: {'verbose_eval': True, 'num_boost_round': 100}\n",
            "\tdmatrix_kwargs: {'nthread': 1, 'missing': nan}\n",
            "INFO:XGBoost-PySpark:Finished xgboost training!\n",
            "INFO:XGBoost-PySpark:Running xgboost-2.0.2 on 1 workers with\n",
            "\tbooster params: {'objective': 'reg:squarederror', 'device': 'cpu', 'numWorkers': 8, 'maxDepth': 3, 'eta': 0.3, 'numRound': 1000, 'nthread': 1}\n",
            "\ttrain_call_kwargs_params: {'verbose_eval': True, 'num_boost_round': 100}\n",
            "\tdmatrix_kwargs: {'nthread': 1, 'missing': nan}\n",
            "INFO:XGBoost-PySpark:Finished xgboost training!\n",
            "INFO:XGBoost-PySpark:Running xgboost-2.0.2 on 1 workers with\n",
            "\tbooster params: {'objective': 'reg:squarederror', 'device': 'cpu', 'numWorkers': 8, 'maxDepth': 3, 'eta': 0.3, 'numRound': 1000, 'nthread': 1}\n",
            "\ttrain_call_kwargs_params: {'verbose_eval': True, 'num_boost_round': 100}\n",
            "\tdmatrix_kwargs: {'nthread': 1, 'missing': nan}\n",
            "INFO:XGBoost-PySpark:Finished xgboost training!\n",
            "INFO:XGBoost-PySpark:Running xgboost-2.0.2 on 1 workers with\n",
            "\tbooster params: {'objective': 'reg:squarederror', 'device': 'cpu', 'numWorkers': 8, 'maxDepth': 3, 'eta': 0.3, 'numRound': 1000, 'nthread': 1}\n",
            "\ttrain_call_kwargs_params: {'verbose_eval': True, 'num_boost_round': 100}\n",
            "\tdmatrix_kwargs: {'nthread': 1, 'missing': nan}\n",
            "INFO:XGBoost-PySpark:Finished xgboost training!\n",
            "INFO:XGBoost-PySpark:Running xgboost-2.0.2 on 1 workers with\n",
            "\tbooster params: {'objective': 'reg:squarederror', 'device': 'cpu', 'numWorkers': 8, 'maxDepth': 3, 'eta': 0.3, 'numRound': 1000, 'nthread': 1}\n",
            "\ttrain_call_kwargs_params: {'verbose_eval': True, 'num_boost_round': 100}\n",
            "\tdmatrix_kwargs: {'nthread': 1, 'missing': nan}\n",
            "INFO:XGBoost-PySpark:Finished xgboost training!\n",
            "INFO:XGBoost-PySpark:Running xgboost-2.0.2 on 1 workers with\n",
            "\tbooster params: {'objective': 'reg:squarederror', 'device': 'cpu', 'numWorkers': 8, 'maxDepth': 3, 'eta': 0.3, 'numRound': 1000, 'nthread': 1}\n",
            "\ttrain_call_kwargs_params: {'verbose_eval': True, 'num_boost_round': 100}\n",
            "\tdmatrix_kwargs: {'nthread': 1, 'missing': nan}\n",
            "INFO:XGBoost-PySpark:Finished xgboost training!\n",
            "INFO:XGBoost-PySpark:Running xgboost-2.0.2 on 1 workers with\n",
            "\tbooster params: {'objective': 'reg:squarederror', 'device': 'cpu', 'numWorkers': 8, 'maxDepth': 3, 'eta': 0.3, 'numRound': 1000, 'nthread': 1}\n",
            "\ttrain_call_kwargs_params: {'verbose_eval': True, 'num_boost_round': 100}\n",
            "\tdmatrix_kwargs: {'nthread': 1, 'missing': nan}\n",
            "INFO:XGBoost-PySpark:Finished xgboost training!\n"
          ]
        }
      ]
    },
    {
      "cell_type": "code",
      "source": [
        "import pandas as pd\n",
        "import seaborn as sns\n",
        "import matplotlib.pyplot as plt\n",
        "\n",
        "data = []\n",
        "for num_workers, times in R2.items():\n",
        "    for time in times:\n",
        "        data.append({'number_workers': num_workers, 'run_time': time})\n",
        "\n",
        "df = pd.DataFrame(data)\n",
        "\n",
        "# Create the boxplot\n",
        "sns.boxplot(x='number_workers', y='run_time', data=df, palette='RdPu')\n",
        "\n",
        "# Labeling the axes\n",
        "plt.xlabel('Number of Workers')\n",
        "plt.ylabel('R Squared')"
      ],
      "metadata": {
        "colab": {
          "base_uri": "https://localhost:8080/",
          "height": 467
        },
        "id": "PBBX946ZEpW-",
        "outputId": "273e0dbf-3d9a-4920-eb2f-074bf4cbbb30"
      },
      "execution_count": 76,
      "outputs": [
        {
          "output_type": "execute_result",
          "data": {
            "text/plain": [
              "Text(0, 0.5, 'R Squared')"
            ]
          },
          "metadata": {},
          "execution_count": 76
        },
        {
          "output_type": "display_data",
          "data": {
            "text/plain": [
              "<Figure size 640x480 with 1 Axes>"
            ],
            "image/png": "[encoded data removed]"
          },
          "metadata": {}
        }
      ]
    },
    {
      "cell_type": "code",
      "source": [
        "import time\n",
        "wo_run_time = []\n",
        "for _ in range(5):\n",
        "  # Train the model\n",
        "  start = time.time()\n",
        "  bst = xgb.train(params, dtrain, num_boost_round=params['num_boost_round'])\n",
        "  end = time.time()\n",
        "  wo_run_time.append(end - start)"
      ],
      "metadata": {
        "colab": {
          "base_uri": "https://localhost:8080/"
        },
        "id": "rmZ4AjmQEpUf",
        "outputId": "069629cb-9ec8-4bd6-8076-a7f206efae72"
      },
      "execution_count": 70,
      "outputs": [
        {
          "output_type": "stream",
          "name": "stderr",
          "text": [
            "/usr/local/lib/python3.10/dist-packages/xgboost/core.py:160: UserWarning: [03:00:07] WARNING: /workspace/src/learner.cc:742: \n",
            "Parameters: { \"num_boost_round\" } are not used.\n",
            "\n",
            "  warnings.warn(smsg, UserWarning)\n",
            "/usr/local/lib/python3.10/dist-packages/xgboost/core.py:160: UserWarning: [03:00:42] WARNING: /workspace/src/learner.cc:742: \n",
            "Parameters: { \"num_boost_round\" } are not used.\n",
            "\n",
            "  warnings.warn(smsg, UserWarning)\n",
            "/usr/local/lib/python3.10/dist-packages/xgboost/core.py:160: UserWarning: [03:01:13] WARNING: /workspace/src/learner.cc:742: \n",
            "Parameters: { \"num_boost_round\" } are not used.\n",
            "\n",
            "  warnings.warn(smsg, UserWarning)\n",
            "/usr/local/lib/python3.10/dist-packages/xgboost/core.py:160: UserWarning: [03:01:47] WARNING: /workspace/src/learner.cc:742: \n",
            "Parameters: { \"num_boost_round\" } are not used.\n",
            "\n",
            "  warnings.warn(smsg, UserWarning)\n",
            "/usr/local/lib/python3.10/dist-packages/xgboost/core.py:160: UserWarning: [03:02:18] WARNING: /workspace/src/learner.cc:742: \n",
            "Parameters: { \"num_boost_round\" } are not used.\n",
            "\n",
            "  warnings.warn(smsg, UserWarning)\n"
          ]
        }
      ]
    },
    {
      "cell_type": "code",
      "source": [
        "# Create a DataFrame from the lists\n",
        "data = pd.DataFrame({'XGBoost w/o Spark': tmp1, 'XGBoost w/ Spark': tmp2})\n",
        "\n",
        "# Melt the DataFrame to long format for Seaborn\n",
        "data_long = data.melt(var_name='Model', value_name='Training Time (s)')\n",
        "\n",
        "# Create the boxplot\n",
        "sns.boxplot(x='Model', y='Training Time (s)', data=data_long)\n",
        "\n",
        "# Labeling the axes\n",
        "plt.xlabel('')\n",
        "plt.ylabel('Training Time (s)')\n",
        "\n",
        "# Display the plot\n",
        "plt.show()\n"
      ],
      "metadata": {
        "colab": {
          "base_uri": "https://localhost:8080/",
          "height": 433
        },
        "id": "3t0ziAJGzVgc",
        "outputId": "614f3fa2-47fa-4881-bea2-877fcab59451"
      },
      "execution_count": 75,
      "outputs": [
        {
          "output_type": "display_data",
          "data": {
            "text/plain": [
              "<Figure size 640x480 with 1 Axes>"
            ],
            "image/png": "[encoded data removed]"
          },
          "metadata": {}
        }
      ]
    },
    {
      "cell_type": "code",
      "source": [],
      "metadata": {
        "id": "S68NdfclEpSS"
      },
      "execution_count": null,
      "outputs": []
    },
    {
      "cell_type": "code",
      "source": [],
      "metadata": {
        "id": "EaW9t_PSvRjt"
      },
      "execution_count": null,
      "outputs": []
    },
    {
      "cell_type": "code",
      "execution_count": null,
      "metadata": {
        "id": "3pRXpZ-l2hA0"
      },
      "outputs": [],
      "source": []
    }
  ],
  "metadata": {
    "colab": {
      "provenance": []
    },
    "kernelspec": {
      "display_name": "Python 3 (ipykernel)",
      "language": "python",
      "name": "python3"
    },
    "language_info": {
      "codemirror_mode": {
        "name": "ipython",
        "version": 3
      },
      "file_extension": ".py",
      "mimetype": "text/x-python",
      "name": "python",
      "nbconvert_exporter": "python",
      "pygments_lexer": "ipython3",
      "version": "3.9.13"
    }
  },
  "nbformat": 4,
  "nbformat_minor": 0
}